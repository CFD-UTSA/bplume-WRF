{
 "cells": [
  {
   "cell_type": "code",
   "execution_count": 2,
   "id": "db1605f7-264c-4936-bfd8-d1bec1fe6fca",
   "metadata": {},
   "outputs": [],
   "source": [
    "import numpy as np\n",
    "import pyplume as pl\n",
    "import time\n",
    "from matplotlib import pyplot as plt"
   ]
  },
  {
   "cell_type": "code",
   "execution_count": 4,
   "id": "31069e8c-1b7f-4963-a2f2-db359239c14e",
   "metadata": {},
   "outputs": [
    {
     "name": "stdout",
     "output_type": "stream",
     "text": [
      "5.045426432291666\n"
     ]
    }
   ],
   "source": [
    "start = time.time()\n",
    "T = pl.loadmat(r'Z:\\Jesse\\Plumes\\CarbonDioxide\\Neutral\\co2.h2pt5.a\\NBL_3D_T_h2pt5')\n",
    "end = time.time()\n",
    "print((end-start)/60)"
   ]
  },
  {
   "cell_type": "code",
   "execution_count": 16,
   "id": "90f19415-3889-4a31-85c5-ecd257815bcf",
   "metadata": {},
   "outputs": [],
   "source": [
    "nx = 45\n",
    "ny = 45\n",
    "nz = 700\n",
    "dx = 40\n",
    "dy = 40\n",
    "dz = 10\n",
    "dt = 10\n",
    "nt = int(int(np.shape(T)[0])/nx/ny/nz)"
   ]
  },
  {
   "cell_type": "code",
   "execution_count": 9,
   "id": "6ff3df14-5062-4e71-b7c0-9597794e7c24",
   "metadata": {},
   "outputs": [],
   "source": [
    "T = np.reshape(T,[nx,ny,nz,nt],order = \"F\")"
   ]
  },
  {
   "cell_type": "code",
   "execution_count": 11,
   "id": "81860f68-6f53-486c-98e7-0af20a12d897",
   "metadata": {},
   "outputs": [],
   "source": [
    "gT = pl.gprimeT(T,300,9.81)"
   ]
  },
  {
   "cell_type": "code",
   "execution_count": 24,
   "id": "49feaa6a-c051-4030-8f59-77df1fc88cd5",
   "metadata": {},
   "outputs": [],
   "source": [
    "height=pl.plumeheight(gT,0.0001,dt,dz,400)"
   ]
  },
  {
   "cell_type": "code",
   "execution_count": 25,
   "id": "0b431241-a622-48f5-b007-0b012aa0acf0",
   "metadata": {},
   "outputs": [],
   "source": [
    "def plumeplot(data,dataname,dt,marksize=250):\n",
    "    plt.figure(figsize=(10,5))\n",
    "    color = 'k'\n",
    "    nt = np.shape(data)[0]\n",
    "    x = list(range(0,(nt)*dt,dt))\n",
    "    plt.plot(x[0:np.shape(data)[0]],data,color = color)\n",
    "    plt.locator_params(axis='x', nbins=300)\n",
    "    plt.grid()\n",
    "    plt.xticks(np.arange(min(x), max(x)+1, marksize))\n",
    "    plt.ylabel('z/D');plt.xlabel('Time')\n",
    "    plt.savefig(dataname +'.png')"
   ]
  },
  {
   "cell_type": "code",
   "execution_count": 26,
   "id": "7b39a96a-5513-41dc-b9a2-540d20a373aa",
   "metadata": {},
   "outputs": [
    {
     "data": {
      "image/png": "[encoded data removed]",
      "text/plain": [
       "<Figure size 720x360 with 1 Axes>"
      ]
     },
     "metadata": {
      "needs_background": "light"
     },
     "output_type": "display_data"
    }
   ],
   "source": [
    "plumeplot(height,\"nbl.co2.h.2.5_plumeheight\",dt)"
   ]
  }
 ],
 "metadata": {
  "kernelspec": {
   "display_name": "Python 3",
   "language": "python",
   "name": "python3"
  },
  "language_info": {
   "codemirror_mode": {
    "name": "ipython",
    "version": 3
   },
   "file_extension": ".py",
   "mimetype": "text/x-python",
   "name": "python",
   "nbconvert_exporter": "python",
   "pygments_lexer": "ipython3",
   "version": "3.8.8"
  }
 },
 "nbformat": 4,
 "nbformat_minor": 5
}
