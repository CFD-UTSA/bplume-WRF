{
 "cells": [
  {
   "cell_type": "code",
   "execution_count": 1,
   "metadata": {},
   "outputs": [],
   "source": [
    "import pyplume as pl #import pyplume package\n",
    "import numpy as np\n",
    "import matplotlib.pyplot as plt"
   ]
  },
  {
   "cell_type": "code",
   "execution_count": 22,
   "metadata": {},
   "outputs": [],
   "source": [
    "# Path input\n",
    "name = \"CO2_h5\"\n",
    "folder = r\"C:\\Users\\thanh\\OneDrive - University of Texas at San Antonio\\Data\\CO2_h5\"\n",
    "# folder = folder+name\n",
    "filename = folder+'\\\\'+name"
   ]
  },
  {
   "cell_type": "code",
   "execution_count": 16,
   "metadata": {},
   "outputs": [],
   "source": [
    "# path = r'C:\\Users\\thanh\\OneDrive - University of Texas at San Antonio\\pyplume TEST\\namelist.input.txt'\n",
    "inputname = 'namelist.input.txt'\n",
    "# inputpath = folder+'//'+inputname\n",
    "p1_metadata = pl.plume_metadata(inputname)\n",
    "nx = p1_metadata.nx_trimmed\n",
    "ny = p1_metadata.ny_trimmed\n",
    "nz = p1_metadata.nz_trimmed\n",
    "dx = p1_metadata.dx\n",
    "dy = p1_metadata.dy\n",
    "dz = p1_metadata.dz\n",
    "D  = p1_metadata.D\n",
    "dt = p1_metadata.dt\n",
    "Ta = p1_metadata.Ta\n",
    "g  = p1_metadata.g\n",
    "nu  = p1_metadata.nu\n",
    "threshold = p1_metadata.threshold"
   ]
  },
  {
   "cell_type": "code",
   "execution_count": 15,
   "metadata": {},
   "outputs": [],
   "source": [
    "#LOADING DATA\n",
    "T = pl.loadmat(filename+\"_T.mat\")\n",
    "Q = pl.loadmat(filename+\"_Q.mat\")\n",
    "W = pl.loadmat(filename+\"_W.mat\")\n",
    "# W = pl.loadmat(filename+\"_W.mat\")\n",
    "# U = pl.loadmat(filename+\"_U.mat\")\n",
    "# V = pl.loadmat(filename+\"_V.mat\")"
   ]
  },
  {
   "cell_type": "code",
   "execution_count": null,
   "metadata": {},
   "outputs": [],
   "source": [
    "gT = pl.gprimeT(T,Ta,g)\n",
    "# gT = pl.gprimeT(T,Ta,g)"
   ]
  },
  {
   "cell_type": "code",
   "execution_count": 23,
   "metadata": {
    "jupyter": {
     "source_hidden": true
    }
   },
   "outputs": [],
   "source": [
    "# #plot spacial data function\n",
    "# def plot_plume_spacial_data(data,x1,x2,n,title,axis,dx,dy,dz,D):\n",
    "#     data = np.mean(data,3) #Time average the data [45,45,700,541] to [45,45,700]\n",
    "#     color = 'k'\n",
    "#     nx,ny,nz = np.shape(data)\n",
    "#     def d2x(x1,nx,D):\n",
    "#         if (x1<0):\n",
    "#             x1=x1*-1\n",
    "#             x1 = int(nx/2)-int(x1*D/dx)\n",
    "#         if (x1==0):\n",
    "#             x1 = int((nx-1)/2)\n",
    "#         else:\n",
    "#             x1 = int(x1*2*D/dx)-1\n",
    "#         return x1\n",
    "    \n",
    "#     if n == 0:\n",
    "#         plt.figure(figsize=(10,5))\n",
    "#         xaxis = \"x/D\"\n",
    "#         yaxis = axis\n",
    "#         x1 = d2x(x1,ny,D)\n",
    "#         if x2 != 0:\n",
    "#             x2 = int(x2*D/dz)-1\n",
    "#         try:\n",
    "#             data = data[:,x1,x2] # Take a slide of data at y=x1 and z=x2\n",
    "#         except:\n",
    "#             print(\"Out of range\")\n",
    "#             print(\"x/D range: \",float(-(nx)*dx/2/D),\" to \",float((nx)*dx/2/D))\n",
    "#             print(\"z/D range: \",0,\" to \",float((nz)*dz/D))\n",
    "#         x = np.linspace(float(-(nx)*dx/2/D),float((nx)*dx/2/D),int(nx))\n",
    "#         plt.plot(x[0:np.shape(data)[0]],data,linewidth=1,color=color,\n",
    "#         marker = 'o',ms =5  ,mfc = color,\n",
    "#         label=title,markevery = 1)\n",
    "        \n",
    "#     if n == 1:\n",
    "#         plt.figure(figsize=(10,5))\n",
    "#         xaxis = \"y/D\"\n",
    "#         yaxis = axis\n",
    "#         x1 = d2x(x1,nx,D)\n",
    "#         if x2 != 0:\n",
    "#             x2 = int(x2*D/dz)-1\n",
    "#         try:\n",
    "#             data = data[x1,:,x2] # Take a slide of data at x=x1 and z=x2\n",
    "#         except:\n",
    "#             print(\"Out of range\")\n",
    "#             print(\"y/D range: \",float(-(ny)*dy/2/D),\" to \",float((ny)*dy/2/D))\n",
    "#             print(\"z/D range: \",0,\" to \",float((nz)*dz/D))\n",
    "#         x = np.linspace(float(-(ny)*dy/2/D),float((ny)*dy/2/D),int(ny))\n",
    "#         plt.plot(x[0:np.shape(data)[0]],data,linewidth=1,color=color,\n",
    "#         marker = 'o',ms =5  ,mfc = color,\n",
    "#         label=title,markevery = 1)\n",
    "    \n",
    "#     if n == 2:\n",
    "#         yaxis = \"z/D\"\n",
    "#         xaxis = axis\n",
    "#         plt.figure(figsize=(5,10))\n",
    "#         x1 = d2x(x1,nx,D)\n",
    "#         x2 = d2x(x2,ny,D)\n",
    "#         print(x1,x2)\n",
    "#         data = data[x1,x2,5:] #Take a slide of data at x=x1, y=x2 and z is range from 5 to 700 \n",
    "#         x = np.linspace(0,float((nz)*dz/D),int(nz))\n",
    "#         plt.plot(data,x[0:np.shape(data)[0]],linewidth=1,color=color,\n",
    "#         marker = 'o',ms =1.5,mfc = color,\n",
    "#         label=title,markevery = 1)\n",
    "#     try:\n",
    "#         plt.ylabel(\"$\"+yaxis+\"$\",fontsize=14)\n",
    "#         plt.xlabel(\"$\"+xaxis+\"$\", rotation=0, fontsize=14, labelpad=20)\n",
    "# #         plt.title(title,fontsize=18,pad = 20)\n",
    "#     except:\n",
    "#         print(\"n=0 : xz plane \")\n",
    "#         print(\"n=1 : yz plane \")\n",
    "#         print(\"n=2 : xy plane \")\n",
    "#     plt.savefig(title+\".png\")"
   ]
  },
  {
   "cell_type": "code",
   "execution_count": 25,
   "metadata": {},
   "outputs": [
    {
     "name": "stdout",
     "output_type": "stream",
     "text": [
      "22 22\n"
     ]
    },
    {
     "data": {
      "image/png": "[encoded data removed]",
      "text/plain": [
       "<Figure size 360x720 with 1 Axes>"
      ]
     },
     "metadata": {
      "needs_background": "light"
     },
     "output_type": "display_data"
    }
   ],
   "source": [
    "x1 =0 #D\n",
    "x2 =0 #D\n",
    "n = 2\n",
    "title = \"Title\"\n",
    "axis = \"gT\"\n",
    "plot_plume_spacial_data(Q,x1,x2,n,title,axis,dx,dy,dz,D)"
   ]
  },
  {
   "cell_type": "code",
   "execution_count": 7,
   "metadata": {},
   "outputs": [
    {
     "name": "stdout",
     "output_type": "stream",
     "text": [
      "22.208714723587036\n"
     ]
    }
   ],
   "source": [
    "import time\n",
    "start = time.time()\n",
    "p1_characteristics = pl.plume_characteristics(W,gT,dx,dy,dz,dt,D,threshold)\n",
    "stop = time.time()\n",
    "print(stop-start)"
   ]
  },
  {
   "cell_type": "code",
   "execution_count": 9,
   "metadata": {},
   "outputs": [],
   "source": [
    "import time\n",
    "start = time.time()\n",
    "cl = pl.plume_centerline_characteristics(W,gT,dx,dy,dz,dt,D,threshold,v)\n",
    "stop = time.time()\n",
    "print(stop-start)"
   ]
  },
  {
   "cell_type": "code",
   "execution_count": 10,
   "metadata": {},
   "outputs": [],
   "source": [
    "import time\n",
    "start = time.time()\n",
    "# p1_polar = pl.plume_polar_coordinates(U,V,W,dx,dy,dz)\n",
    "stop = time.time()\n",
    "print(stop-start)"
   ]
  },
  {
   "cell_type": "code",
   "execution_count": 16,
   "metadata": {},
   "outputs": [],
   "source": [
    "#There will be 5 classes\n",
    "#Metadata\n",
    "#PLume Characteristic\n",
    "#Centerline\n",
    "#Spacial Data\n",
    "#Polar Coordinate\n",
    "#Visuals"
   ]
  }
 ],
 "metadata": {
  "kernelspec": {
   "display_name": "Python 3",
   "language": "python",
   "name": "python3"
  },
  "language_info": {
   "codemirror_mode": {
    "name": "ipython",
    "version": 3
   },
   "file_extension": ".py",
   "mimetype": "text/x-python",
   "name": "python",
   "nbconvert_exporter": "python",
   "pygments_lexer": "ipython3",
   "version": "3.8.5"
  }
 },
 "nbformat": 4,
 "nbformat_minor": 4
}
