{
 "cells": [
  {
   "cell_type": "code",
   "execution_count": null,
   "metadata": {},
   "outputs": [],
   "source": [
    "import sys\n",
    "sys.path.insert(1, r'/Users/thanhbed/OneDrive - University of Texas at San Antonio/Pyplume')\n",
    "import pyplume as pl\n",
    "\n",
    "import matplotlib.pyplot as plt\n",
    "import numpy as np"
   ]
  },
  {
   "cell_type": "code",
   "execution_count": null,
   "metadata": {},
   "outputs": [],
   "source": [
    "# path = r\"/Users/thanhbed/OneDrive - University of Texas at San Antonio/Data/CO2_h5/V.mat\"\n",
    "# data = pl.loadmat(path)\n",
    "# np.save(path,data)\n",
    "\n",
    "# path = r\"/Users/thanhbed/OneDrive - University of Texas at San Antonio/Data/CO2_h5/W.mat\"\n",
    "# data = pl.loadmat(path)\n",
    "# np.save(path,data)\n",
    "\n",
    "# path = r\"/Users/thanhbed/OneDrive - University of Texas at San Antonio/Data/CO2_h5/lambda2.mat\"\n",
    "# data = pl.loadmat(path)\n",
    "# np.save(path,data)"
   ]
  },
  {
   "cell_type": "code",
   "execution_count": null,
   "metadata": {},
   "outputs": [],
   "source": [
    "# pl.reshape_ntnznynx(r\"/Users/thanhbed/OneDrive - University of Texas at San Antonio/Data/CO2_h5/T.mat.npy\")\n",
    "pl.reshape_ntnznynx(r\"/Users/thanhbed/OneDrive - University of Texas at San Antonio/Data/CO2_h5/U.mat.npy\")\n",
    "pl.reshape_ntnznynx(r\"/Users/thanhbed/OneDrive - University of Texas at San Antonio/Data/CO2_h5/V.mat.npy\")\n",
    "pl.reshape_ntnznynx(r\"/Users/thanhbed/OneDrive - University of Texas at San Antonio/Data/CO2_h5/W.mat.npy\")\n",
    "pl.reshape_ntnznynx(r\"/Users/thanhbed/OneDrive - University of Texas at San Antonio/Data/CO2_h5/lambda2.mat.npy\")"
   ]
  },
  {
   "cell_type": "code",
   "execution_count": null,
   "metadata": {},
   "outputs": [],
   "source": [
    "T = np.load(\"/Users/thanhbed/OneDrive - University of Texas at San Antonio/Data/CO2_h5/T.mat.npy\")"
   ]
  },
  {
   "cell_type": "code",
   "execution_count": null,
   "metadata": {},
   "outputs": [],
   "source": [
    "Tmat = pl.loadmat(r\"/Users/thanhbed/OneDrive - University of Texas at San Antonio/Data/CO2_h5/T.mat\")"
   ]
  },
  {
   "cell_type": "code",
   "execution_count": null,
   "metadata": {},
   "outputs": [],
   "source": [
    "np.shape(T)"
   ]
  }
 ],
 "metadata": {
  "kernelspec": {
   "display_name": "Python 3",
   "language": "python",
   "name": "python3"
  },
  "language_info": {
   "codemirror_mode": {
    "name": "ipython",
    "version": 3
   },
   "file_extension": ".py",
   "mimetype": "text/x-python",
   "name": "python",
   "nbconvert_exporter": "python",
   "pygments_lexer": "ipython3",
   "version": "3.8.8"
  }
 },
 "nbformat": 4,
 "nbformat_minor": 4
}
