{
 "cells": [
  {
   "cell_type": "code",
   "execution_count": 1,
   "metadata": {},
   "outputs": [],
   "source": [
    "# def hf_csv2array (data):\n",
    "#     temp = np.array(data)\n",
    "#     nt = np.shape(temp)[0]\n",
    "    \n",
    "#     a_string = temp[1,0]\n",
    "#     a_list = a_string.split()\n",
    "#     map_object = map(float, a_list)\n",
    "#     list_of_integers = list(map_object)\n",
    "#     testnz = np.array(list_of_integers)\n",
    "    \n",
    "#     nz = int(np.shape(testnz)[0])\n",
    "#     newarray = np.zeros((nt,nz))\n",
    "    \n",
    "#     for i in range (nt):\n",
    "#         a_string = temp[i,0]\n",
    "#         a_list = a_string.split()\n",
    "#         map_object = map(float, a_list)\n",
    "#         list_of_integers = list(map_object)\n",
    "#         newarray[i,:] = np.array(list_of_integers)\n",
    "#     return newarray\n",
    "\n",
    "# def hf_loadcsv(filename):\n",
    "#     temp = pd.read_csv(filename,skiprows=1,header=None)\n",
    "#     temp= hf_csv2array(temp)\n",
    "#     temp = temp.T\n",
    "#     return temp\n",
    "\n",
    "# def hf_fulldata(filename,dx=56):\n",
    "#     filename = filename[-7:]\n",
    "#     temp= hf_loadcsv('c0001'+filename)\n",
    "#     nz,nt = np.shape(temp)\n",
    "#     hfdata = np.zeros((dx+1,nz,nt))\n",
    "#     hfdata[int(dx/2),:,:] = temp\n",
    "#     for i in range(1,29):\n",
    "#         start = time()\n",
    "#         hfdata[28+i,:,:] = hf_loadcsv('i00'+str(i).zfill(2)+filename)\n",
    "#         end = time()\n",
    "#     for i in range(1,29):\n",
    "#         start = time()\n",
    "#         hfdata[28-i,:,:] = hf_loadcsv('j00'+str(i).zfill(2)+filename)\n",
    "#         end = time()\n",
    "#     return hfdata\n",
    "\n",
    "# def hf_csv2mat(filename,dx=56):\n",
    "#     data = hf_fulldata(filename)\n",
    "#     filename = filename[-2:]\n",
    "#     pl.savemat(data[0:int(dx/2+1)],filename+'_1')\n",
    "#     pl.savemat(data[int(dx/2+1):dx],filename+'_2')\n",
    "    \n",
    "# def hf_loadmat(file):\n",
    "#     file = file[:-5]\n",
    "#     d1 = pl.loadmat(file+\"1.mat\")\n",
    "#     d2 = pl.loadmat(file+\"2.mat\")\n",
    "#     data = np.concatenate((d1,d2),axis=0)\n",
    "#     return data\n",
    "# def fluctuating_component(data):\n",
    "#     nx,nz,nt = np.shape(data)\n",
    "#     dmean = np.mean(data,2)\n",
    "#     dprime = np.zeros(np.shape(data))\n",
    "#     for t in range(nt):\n",
    "#         dprime[:,:,t] = data[:,:,t]-dmean\n",
    "#     return dprime\n",
    "\n",
    "# def hf_contour(data,interface,dx,dz,D,threshold,title):\n",
    "#     import numpy as np\n",
    "#     import matplotlib.pyplot as plt\n",
    "#     data = data.T\n",
    "#     interface = interface.T\n",
    "#     nz,nx = np.shape(data)\n",
    "#     plt.style.use('seaborn-white')\n",
    "#     xi = np.linspace(-nx*.5*dx/D, nx*.5*dx/D, nx)\n",
    "#     zi = np.linspace(0, nz*dz/D, nz)\n",
    "#     plt.figure(figsize=(10, 10))\n",
    "#     contours  = plt.contour(xi,zi,interface,linewidths=3, colors='black');\n",
    "# #     plt.clabel(contours, inline=True, fontsize=15)\n",
    "#     plt.ylabel(\"$z/D$\",fontsize=14)\n",
    "#     plt.xlabel(\"$x/D$\", rotation=0, fontsize=14, labelpad=10)\n",
    "# #     plt.title(title,fontsize=18,pad = 20)\n",
    "#     plt.imshow(data, extent=[-nx*.5*dx/D, nx*.5*dx/D,0, nz*dz/D], origin='lower',cmap='jet',alpha=1,aspect='auto')\n",
    "#     plt.colorbar()\n",
    "#     plt.savefig(title+\".png\")\n",
    "\n",
    "# def hf_plume_interface(data,threshold):\n",
    "#     data = data/np.max(gT)\n",
    "#     data = np.mean(data,2)\n",
    "#     data[data<threshold] = 0\n",
    "#     data[data>threshold] = 1\n",
    "#     return data\n",
    "\n",
    "# def gprimeT(data,Ta,g):\n",
    "#     data = data*g/Ta\n",
    "#     return data"
   ]
  },
  {
   "cell_type": "code",
   "execution_count": 2,
   "metadata": {},
   "outputs": [],
   "source": [
    "%matplotlib inline\n",
    "import pyplume as pl\n",
    "import numpy as np\n",
    "from matplotlib import pyplot as plt\n",
    "from matplotlib import rcParams\n",
    "from time import time"
   ]
  },
  {
   "cell_type": "code",
   "execution_count": 3,
   "metadata": {},
   "outputs": [],
   "source": [
    "inputname = 'namelist.input.txt'\n",
    "p1_metadata = pl.plume_metadata(inputname)\n",
    "nx = p1_metadata.nx_trimmed\n",
    "ny = p1_metadata.ny_trimmed\n",
    "nz = p1_metadata.nz_trimmed\n",
    "dx = p1_metadata.dx\n",
    "dy = p1_metadata.dy\n",
    "dz = p1_metadata.dz\n",
    "D  = p1_metadata.D\n",
    "dt = p1_metadata.dt\n",
    "Ta = p1_metadata.Ta\n",
    "g  = p1_metadata.g\n",
    "nu  = p1_metadata.nu\n",
    "threshold = p1_metadata.threshold"
   ]
  },
  {
   "cell_type": "code",
   "execution_count": 4,
   "metadata": {},
   "outputs": [
    {
     "name": "stdout",
     "output_type": "stream",
     "text": [
      "C:\\Users\\thanh\\OneDrive - University of Texas at San Antonio\\Data\\nlb.HF.CO2.h.5.0\\instantaneous\n"
     ]
    }
   ],
   "source": [
    "# Data FOLDER\n",
    "%cd C:\\Users\\thanh\\OneDrive - University of Texas at San Antonio\\Data\\nlb.HF.CO2.h.5.0\\instantaneous"
   ]
  },
  {
   "cell_type": "code",
   "execution_count": 5,
   "metadata": {},
   "outputs": [
    {
     "name": "stdout",
     "output_type": "stream",
     "text": [
      "1.1216227094332376\n"
     ]
    }
   ],
   "source": [
    "start = time()\n",
    "U = pl.hf_loadmat(\"UU\")\n",
    "V = pl.hf_loadmat(\"VV\")\n",
    "W = pl.hf_loadmat(\"WW\")\n",
    "T = pl.hf_loadmat(\"TH\")\n",
    "end = time()\n",
    "print((end-start)/60)"
   ]
  },
  {
   "cell_type": "code",
   "execution_count": 6,
   "metadata": {},
   "outputs": [
    {
     "ename": "MemoryError",
     "evalue": "Unable to allocate 9.65 GiB for an array with shape (57, 701, 32400) and data type float64",
     "output_type": "error",
     "traceback": [
      "\u001b[1;31m---------------------------------------------------------------------------\u001b[0m",
      "\u001b[1;31mMemoryError\u001b[0m                               Traceback (most recent call last)",
      "\u001b[1;32m<ipython-input-6-ac3e6069b924>\u001b[0m in \u001b[0;36m<module>\u001b[1;34m\u001b[0m\n\u001b[0;32m      1\u001b[0m \u001b[0mstart\u001b[0m \u001b[1;33m=\u001b[0m \u001b[0mtime\u001b[0m\u001b[1;33m(\u001b[0m\u001b[1;33m)\u001b[0m\u001b[1;33m\u001b[0m\u001b[1;33m\u001b[0m\u001b[0m\n\u001b[1;32m----> 2\u001b[1;33m \u001b[0mhf\u001b[0m \u001b[1;33m=\u001b[0m \u001b[0mpl\u001b[0m\u001b[1;33m.\u001b[0m\u001b[0mhigh_frequency_profile\u001b[0m\u001b[1;33m(\u001b[0m\u001b[0mT\u001b[0m\u001b[1;33m,\u001b[0m\u001b[0mU\u001b[0m\u001b[1;33m,\u001b[0m\u001b[0mV\u001b[0m\u001b[1;33m,\u001b[0m\u001b[0mW\u001b[0m\u001b[1;33m,\u001b[0m\u001b[0mdx\u001b[0m\u001b[1;33m,\u001b[0m\u001b[0mdz\u001b[0m\u001b[1;33m,\u001b[0m\u001b[0mD\u001b[0m\u001b[1;33m,\u001b[0m\u001b[0mTa\u001b[0m\u001b[1;33m,\u001b[0m\u001b[0mg\u001b[0m\u001b[1;33m,\u001b[0m\u001b[0mthreshold\u001b[0m\u001b[1;33m)\u001b[0m\u001b[1;33m\u001b[0m\u001b[1;33m\u001b[0m\u001b[0m\n\u001b[0m\u001b[0;32m      3\u001b[0m \u001b[0mend\u001b[0m \u001b[1;33m=\u001b[0m \u001b[0mtime\u001b[0m\u001b[1;33m(\u001b[0m\u001b[1;33m)\u001b[0m\u001b[1;33m\u001b[0m\u001b[1;33m\u001b[0m\u001b[0m\n\u001b[0;32m      4\u001b[0m \u001b[0mprint\u001b[0m\u001b[1;33m(\u001b[0m\u001b[1;34m\"Minutes: \"\u001b[0m\u001b[1;33m,\u001b[0m\u001b[0mround\u001b[0m\u001b[1;33m(\u001b[0m\u001b[1;33m(\u001b[0m\u001b[0mend\u001b[0m\u001b[1;33m-\u001b[0m\u001b[0mstart\u001b[0m\u001b[1;33m)\u001b[0m\u001b[1;33m/\u001b[0m\u001b[1;36m60\u001b[0m\u001b[1;33m,\u001b[0m\u001b[1;36m2\u001b[0m\u001b[1;33m)\u001b[0m\u001b[1;33m)\u001b[0m\u001b[1;33m\u001b[0m\u001b[1;33m\u001b[0m\u001b[0m\n",
      "\u001b[1;32m~\\OneDrive - University of Texas at San Antonio\\pyplume TEST\\pyplume.py\u001b[0m in \u001b[0;36m__init__\u001b[1;34m(self, T, U, V, W, dx, dz, D, Ta, g, threshold)\u001b[0m\n\u001b[0;32m   1099\u001b[0m         \u001b[0mV\u001b[0m \u001b[1;33m=\u001b[0m \u001b[0mfluctuation\u001b[0m\u001b[1;33m(\u001b[0m\u001b[0mV\u001b[0m\u001b[1;33m)\u001b[0m\u001b[1;33m\u001b[0m\u001b[1;33m\u001b[0m\u001b[0m\n\u001b[0;32m   1100\u001b[0m         \u001b[0mW\u001b[0m \u001b[1;33m=\u001b[0m \u001b[0mfluctuation\u001b[0m\u001b[1;33m(\u001b[0m\u001b[0mW\u001b[0m\u001b[1;33m)\u001b[0m\u001b[1;33m\u001b[0m\u001b[1;33m\u001b[0m\u001b[0m\n\u001b[1;32m-> 1101\u001b[1;33m         \u001b[0mT\u001b[0m \u001b[1;33m=\u001b[0m \u001b[0mfluctuation\u001b[0m\u001b[1;33m(\u001b[0m\u001b[0mT\u001b[0m\u001b[1;33m)\u001b[0m\u001b[1;33m\u001b[0m\u001b[1;33m\u001b[0m\u001b[0m\n\u001b[0m\u001b[0;32m   1102\u001b[0m         \u001b[0mnx\u001b[0m\u001b[1;33m,\u001b[0m\u001b[0mnz\u001b[0m \u001b[1;33m=\u001b[0m \u001b[0mnp\u001b[0m\u001b[1;33m.\u001b[0m\u001b[0mshape\u001b[0m\u001b[1;33m(\u001b[0m\u001b[0mT\u001b[0m\u001b[1;33m)\u001b[0m\u001b[1;33m\u001b[0m\u001b[1;33m\u001b[0m\u001b[0m\n\u001b[0;32m   1103\u001b[0m         \u001b[0mself\u001b[0m\u001b[1;33m.\u001b[0m\u001b[0mRe_stress_UW\u001b[0m \u001b[1;33m=\u001b[0m \u001b[0mnp\u001b[0m\u001b[1;33m.\u001b[0m\u001b[0mmean\u001b[0m\u001b[1;33m(\u001b[0m\u001b[0mU\u001b[0m\u001b[1;33m*\u001b[0m\u001b[0mW\u001b[0m\u001b[1;33m,\u001b[0m\u001b[1;36m2\u001b[0m\u001b[1;33m)\u001b[0m\u001b[1;33m\u001b[0m\u001b[1;33m\u001b[0m\u001b[0m\n",
      "\u001b[1;32m~\\OneDrive - University of Texas at San Antonio\\pyplume TEST\\pyplume.py\u001b[0m in \u001b[0;36mfluctuation\u001b[1;34m(data)\u001b[0m\n\u001b[0;32m    936\u001b[0m     \u001b[0mnx\u001b[0m\u001b[1;33m,\u001b[0m\u001b[0mnz\u001b[0m\u001b[1;33m,\u001b[0m\u001b[0mnt\u001b[0m \u001b[1;33m=\u001b[0m \u001b[0mnp\u001b[0m\u001b[1;33m.\u001b[0m\u001b[0mshape\u001b[0m\u001b[1;33m(\u001b[0m\u001b[0mdata\u001b[0m\u001b[1;33m)\u001b[0m\u001b[1;33m\u001b[0m\u001b[1;33m\u001b[0m\u001b[0m\n\u001b[0;32m    937\u001b[0m     \u001b[0mdmean\u001b[0m \u001b[1;33m=\u001b[0m \u001b[0mnp\u001b[0m\u001b[1;33m.\u001b[0m\u001b[0mmean\u001b[0m\u001b[1;33m(\u001b[0m\u001b[0mdata\u001b[0m\u001b[1;33m,\u001b[0m\u001b[1;36m2\u001b[0m\u001b[1;33m)\u001b[0m\u001b[1;33m\u001b[0m\u001b[1;33m\u001b[0m\u001b[0m\n\u001b[1;32m--> 938\u001b[1;33m     \u001b[0mdprime\u001b[0m \u001b[1;33m=\u001b[0m \u001b[0mnp\u001b[0m\u001b[1;33m.\u001b[0m\u001b[0mzeros\u001b[0m\u001b[1;33m(\u001b[0m\u001b[0mnp\u001b[0m\u001b[1;33m.\u001b[0m\u001b[0mshape\u001b[0m\u001b[1;33m(\u001b[0m\u001b[0mdata\u001b[0m\u001b[1;33m)\u001b[0m\u001b[1;33m)\u001b[0m\u001b[1;33m\u001b[0m\u001b[1;33m\u001b[0m\u001b[0m\n\u001b[0m\u001b[0;32m    939\u001b[0m     \u001b[1;32mfor\u001b[0m \u001b[0mt\u001b[0m \u001b[1;32min\u001b[0m \u001b[0mrange\u001b[0m\u001b[1;33m(\u001b[0m\u001b[0mnt\u001b[0m\u001b[1;33m)\u001b[0m\u001b[1;33m:\u001b[0m\u001b[1;33m\u001b[0m\u001b[1;33m\u001b[0m\u001b[0m\n\u001b[0;32m    940\u001b[0m         \u001b[0mdprime\u001b[0m\u001b[1;33m[\u001b[0m\u001b[1;33m:\u001b[0m\u001b[1;33m,\u001b[0m\u001b[1;33m:\u001b[0m\u001b[1;33m,\u001b[0m\u001b[0mt\u001b[0m\u001b[1;33m]\u001b[0m \u001b[1;33m=\u001b[0m \u001b[0mdata\u001b[0m\u001b[1;33m[\u001b[0m\u001b[1;33m:\u001b[0m\u001b[1;33m,\u001b[0m\u001b[1;33m:\u001b[0m\u001b[1;33m,\u001b[0m\u001b[0mt\u001b[0m\u001b[1;33m]\u001b[0m\u001b[1;33m-\u001b[0m\u001b[0mdmean\u001b[0m\u001b[1;33m\u001b[0m\u001b[1;33m\u001b[0m\u001b[0m\n",
      "\u001b[1;31mMemoryError\u001b[0m: Unable to allocate 9.65 GiB for an array with shape (57, 701, 32400) and data type float64"
     ]
    }
   ],
   "source": [
    "start = time()\n",
    "hf = pl.high_frequency_profile(T,U,V,W,dx,dz,D,Ta,g,threshold)\n",
    "end = time()\n",
    "print(\"Minutes: \",round((end-start)/60,2))"
   ]
  },
  {
   "cell_type": "code",
   "execution_count": null,
   "metadata": {},
   "outputs": [],
   "source": [
    "def hf_contour(data,interface,dx,dz,D,threshold,title):\n",
    "    import numpy as np\n",
    "    import matplotlib.pyplot as plt\n",
    "    data = data.T\n",
    "    interface = interface.T\n",
    "    nz,nx = np.shape(data)\n",
    "    plt.style.use('seaborn-white')\n",
    "    xi = np.linspace(-nx*.5*dx/D, nx*.5*dx/D, nx)\n",
    "    zi = np.linspace(0, nz*dz/D, nz)\n",
    "    plt.figure(figsize=(10, 10))\n",
    "    contours  = plt.contour(xi,zi,interface,linewidths=0.1, colors='black');\n",
    "#     plt.clabel(contours, inline=True, fontsize=15)\n",
    "    plt.ylabel(\"$z/D$\",fontsize=14)\n",
    "    plt.xlabel(\"$x/D$\", rotation=0, fontsize=14, labelpad=10)\n",
    "#     plt.title(title,fontsize=18,pad = 20)\n",
    "    plt.imshow(data, extent=[-nx*.5*dx/D, nx*.5*dx/D,0, nz*dz/D], origin='lower',cmap='jet',alpha=1,aspect='auto')\n",
    "    plt.colorbar()\n",
    "#     plt.savefig(title+\".png\")"
   ]
  },
  {
   "cell_type": "code",
   "execution_count": null,
   "metadata": {},
   "outputs": [],
   "source": [
    "hf_contour(hf.Re_stress_UW,hf.interface,dx,dz,D,threshold,\"Reynolds Stress UW\")"
   ]
  },
  {
   "cell_type": "code",
   "execution_count": null,
   "metadata": {},
   "outputs": [],
   "source": [
    "# Contour Plot\n",
    "pl.hf_contour(hf.Re_stress_UW,hf.interface,dx,dz,D,threshold,\"Reynolds Stress UW\")\n",
    "pl.hf_contour(hf.Re_stress_VW,hf.interface,dx,dz,D,threshold,\"Reynolds Stress VW\")\n",
    "pl.hf_contour(hf.TKE_buoyant_production_I,hf.interface,dx,dz,D,threshold,\"TKE Buoyant Production I\")\n",
    "pl.hf_contour(hf.TKE_shear_pro_UW,hf.interface,dx,dz,D,threshold,\"TKE Shear Production UW\")\n",
    "pl.hf_contour(hf.TKE_shear_pro_VW,hf.interface,dx,dz,D,threshold,\"TKE Shear Production VW\")\n",
    "pl.hf_contour(hf.TKE_buoyant_production_II,hf.interface,dx,dz,D,threshold, \"TKE Buoyant Production II\")\n",
    "pl.hf_contour(hf.TKE, hf.interface,dx,dz,D,threshold,\"TKE\")"
   ]
  },
  {
   "cell_type": "code",
   "execution_count": null,
   "metadata": {},
   "outputs": [],
   "source": [
    "# gT = pl.gprimeT(T,Ta,g)"
   ]
  },
  {
   "cell_type": "code",
   "execution_count": null,
   "metadata": {},
   "outputs": [],
   "source": [
    "# # shear dW/dz\n",
    "# start = time()\n",
    "# shear = (np.gradient(np.mean(W,2),dx,dz))[0]\n",
    "# dTdz = (np.gradient(np.mean(T,2),dx,dz))[0]\n",
    "# end = time()\n",
    "# print((end-start)/60)"
   ]
  },
  {
   "cell_type": "code",
   "execution_count": null,
   "metadata": {},
   "outputs": [],
   "source": [
    "# # fluctuation components\n",
    "# start = time()\n",
    "# Ufl = pl.fluctuation(U)\n",
    "# Vfl = pl.fluctuation(V)\n",
    "# Wfl = pl.fluctuation(W)\n",
    "# Tfl = pl.fluctuation(T)\n",
    "# end = time()\n",
    "# print((end-start)/60)"
   ]
  },
  {
   "cell_type": "code",
   "execution_count": null,
   "metadata": {},
   "outputs": [],
   "source": [
    "# del U; del V; del W; del T"
   ]
  },
  {
   "cell_type": "code",
   "execution_count": null,
   "metadata": {},
   "outputs": [],
   "source": [
    "# # Reynolds stress and buoyant production\n",
    "# start = time()\n",
    "\n",
    "# Re_stress_UW = np.mean(Ufl*Wfl,2)\n",
    "# Re_stress_VW = np.mean(Vfl*Wfl,2)\n",
    "\n",
    "# end = time()\n",
    "# print((end-start)/60)"
   ]
  },
  {
   "cell_type": "code",
   "execution_count": null,
   "metadata": {},
   "outputs": [],
   "source": [
    "# #TKE\n",
    "# start = time();\n",
    "\n",
    "# TKE_shear_pro_UW = -(Re_stress_UW*shear)\n",
    "\n",
    "# TKE_shear_pro_VW = -(Re_stress_VW*shear)\n",
    "\n",
    "# TKE_buoyant_production_I = np.mean(Wfl*Tfl,2)\n",
    "\n",
    "# TKE_buoyant_production_II = TKE_buoyant_production_I*dTdz\n",
    "\n",
    "# TKE = np.mean(Ufl*Ufl,2)+np.mean(Vfl*Vfl,2)+np.mean(Wfl*Wfl,2)\n",
    "\n",
    "# end = time();print((end-start)/60);"
   ]
  },
  {
   "cell_type": "code",
   "execution_count": null,
   "metadata": {},
   "outputs": [],
   "source": [
    "# interface = hf_plume_interface(gT,0.001)"
   ]
  },
  {
   "cell_type": "code",
   "execution_count": null,
   "metadata": {},
   "outputs": [],
   "source": [
    "# np.shape(hf.interface)"
   ]
  },
  {
   "cell_type": "code",
   "execution_count": null,
   "metadata": {},
   "outputs": [],
   "source": [
    "#Center Profile\n",
    "# TKE_shear_pro_UW"
   ]
  },
  {
   "cell_type": "code",
   "execution_count": null,
   "metadata": {},
   "outputs": [],
   "source": [
    "# #LOAD FULL data\n",
    "# start = time()\n",
    "# testhf = hf_fulldata('c0001.d01.UU')\n",
    "# end = time()\n",
    "# print((end-start)/60)"
   ]
  },
  {
   "cell_type": "code",
   "execution_count": null,
   "metadata": {},
   "outputs": [],
   "source": [
    "# #LOAD FULL data\n",
    "# start = time()\n",
    "# testhf = hf_fulldata('c0001.d01.TH')\n",
    "# end = time()\n",
    "# print((end-start)/60)"
   ]
  },
  {
   "cell_type": "code",
   "execution_count": null,
   "metadata": {},
   "outputs": [],
   "source": [
    "# # Combine all  to .mat\n",
    "# start = time()\n",
    "# hf_csv2mat('c0001.d01.QP')\n",
    "# hf_csv2mat('c0001.d01.QV')\n",
    "# hf_csv2mat('c0001.d01.PR')\n",
    "# hf_csv2mat('c0001.d01.PH')\n",
    "# end = time()\n",
    "# print((end-start)/60)"
   ]
  },
  {
   "cell_type": "code",
   "execution_count": null,
   "metadata": {},
   "outputs": [],
   "source": [
    "# # Loading data \n",
    "# start = time()\n",
    "# ThC_a= hf_loadcsv('c0001.d01.TH')\n",
    "# ThC_b= hf_loadcsv('c0001.d01.PR')\n",
    "# ThC_c= hf_loadcsv('c0001.d01.QP')\n",
    "# ThC_d= hf_loadcsv('c0001.d01.UU')\n",
    "# ThC_e= hf_loadcsv('c0001.d01.VV')\n",
    "# ThC_f= hf_loadcsv('c0001.d01.WW')\n",
    "# ThC_g= hf_loadcsv('i0001.d01.TH')\n",
    "# ThC_h= hf_loadcsv('i0001.d01.PR')\n",
    "# ThC_i= hf_loadcsv('i0001.d01.QP')\n",
    "# ThC_j= hf_loadcsv('i0001.d01.UU')\n",
    "# ThC_k= hf_loadcsv('i0001.d01.VV')\n",
    "# ThC_l= hf_loadcsv('i0001.d01.WW')\n",
    "\n",
    "# ThC_a= hf_loadcsv('c0001.d01.TH')\n",
    "# ThC_b= hf_loadcsv('c0001.d01.PR')\n",
    "# ThC_c= hf_loadcsv('c0001.d01.QP')\n",
    "# ThC_d= hf_loadcsv('c0001.d01.UU')\n",
    "# ThC_e= hf_loadcsv('c0001.d01.VV')\n",
    "# ThC_f= hf_loadcsv('c0001.d01.WW')\n",
    "# ThC_g= hf_loadcsv('i0001.d01.TH')\n",
    "# ThC_h= hf_loadcsv('i0001.d01.PR')\n",
    "# ThC_i= hf_loadcsv('i0001.d01.QP')\n",
    "# ThC_j= hf_loadcsv('i0001.d01.UU')\n",
    "# ThC_k= hf_loadcsv('i0001.d01.VV')\n",
    "# ThC_l= hf_loadcsv('i0001.d01.WW')\n",
    "# end = time()\n",
    "# print(round((end-start)/60,2),' minutes')"
   ]
  },
  {
   "cell_type": "code",
   "execution_count": null,
   "metadata": {
    "jupyter": {
     "source_hidden": true
    }
   },
   "outputs": [],
   "source": [
    "# print(ThC_a[10000,10])\n",
    "# # print(ThC_a[10000,20])\n",
    "# # print(ThC_a[10000,30])\n",
    "# print(ThC_a[20000,10])\n",
    "# print(ThC_a[30000,10])\n",
    "\n",
    "# test = ThC_a.T\n",
    "# print(test[10,10000])\n",
    "# # print(test[20,10000])\n",
    "# # print(test[30,10000])\n",
    "# print(test[10,20000])\n",
    "# print(test[10,30000])"
   ]
  },
  {
   "cell_type": "code",
   "execution_count": null,
   "metadata": {
    "jupyter": {
     "source_hidden": true
    }
   },
   "outputs": [],
   "source": [
    "# start = time()\n",
    "# WW_a= hf_loadcsv('c0001.d01.WW')\n",
    "# WW_b= hf_loadcsv('i0001.d01.WW')\n",
    "# WW_c= hf_loadcsv('i0002.d01.WW')\n",
    "# WW_d= hf_loadcsv('i0003.d01.WW')\n",
    "# WW_e= hf_loadcsv('i0004.d01.WW')\n",
    "# WW_f= hf_loadcsv('i0005.d01.WW')\n",
    "# WW_g= hf_loadcsv('i0006.d01.WW')\n",
    "# WW_h= hf_loadcsv('i0007.d01.WW')\n",
    "# WW_i= hf_loadcsv('i0009.d01.WW')\n",
    "# WW_j= hf_loadcsv('i0013.d01.WW')\n",
    "# WW_k= hf_loadcsv('i0017.d01.WW')\n",
    "# WW_l= hf_loadcsv('i0022.d01.WW')\n",
    "# WW_T = [ThC_a,ThC_b,ThC_c,ThC_d,ThC_e,ThC_f,ThC_g,ThC_h]\n",
    "# end = time()\n",
    "# print(round((end-start)/60,2),' minutes')"
   ]
  },
  {
   "cell_type": "code",
   "execution_count": null,
   "metadata": {
    "jupyter": {
     "source_hidden": true
    }
   },
   "outputs": [],
   "source": [
    "# ThC = hf_loadcsv('c0001.d01.TH')\n",
    "# WW_a= hf_loadcsv('c0001.d01.WW')"
   ]
  },
  {
   "cell_type": "code",
   "execution_count": null,
   "metadata": {
    "jupyter": {
     "source_hidden": true
    }
   },
   "outputs": [],
   "source": [
    "# Temp = np.asarray(ThC) - 300 #actual temp - ambient temp\n",
    "# TempPrime = np.zeros_like(np.asarray(Temp))\n",
    "# WW_a = np.asarray(WW_a)\n",
    "\n",
    "# centerline_WW = np.mean(WW_a[:,1:],axis=0)\n",
    "# centerline_Temp = np.mean(Temp[:,1:],axis=0)\n",
    "# np.shape(centerline_Temp)"
   ]
  },
  {
   "cell_type": "markdown",
   "metadata": {},
   "source": [
    "### Figure 1 : Powerlaw Plots"
   ]
  },
  {
   "cell_type": "code",
   "execution_count": null,
   "metadata": {
    "jupyter": {
     "source_hidden": true
    }
   },
   "outputs": [],
   "source": [
    "# fig, axs = plt.subplots(2)\n",
    "# # Log plots\n",
    "# axs[0].loglog(z/D*1.0,centerline_WW,'k',linewidth=2)\n",
    "# axs[1].loglog(z/D*1.0,centerline_Temp,'k',linewidth=2)\n",
    "# # PowerLaws Lines\n",
    "# powerlawLine = np.asarray(range(1,11),dtype=float)\n",
    "# axs[0].plot(powerlawLine,np.power(powerlawLine,-1/3),'k--')\n",
    "# axs[1].plot(powerlawLine,np.power(powerlawLine,-5/3),'k--')\n",
    "# # Ticks and Labels\n",
    "# axs[1].set_xlabel(\"$z/D$\",fontsize=14)\n",
    "# axs[0].set_ylabel('$\\overline{w_c}$', rotation=0, fontsize=14, labelpad=20)\n",
    "# axs[1].set_ylabel(r'$\\overline{\\theta_c} \\  \\ $',rotation=0,fontsize=14)\n",
    "# axs[0].set_title(r'Neutral CO2')\n",
    "# # fig.savefig('figures//Fig1_Powerlawplots_stratifed_co2.png')\n"
   ]
  },
  {
   "cell_type": "markdown",
   "metadata": {},
   "source": [
    "### Figure 2: Gauss Profiles Plots"
   ]
  },
  {
   "cell_type": "markdown",
   "metadata": {},
   "source": [
    "### Figure 3:  Axial Profiles w and g'_T also g'_RHO"
   ]
  },
  {
   "cell_type": "code",
   "execution_count": null,
   "metadata": {
    "jupyter": {
     "source_hidden": true
    }
   },
   "outputs": [],
   "source": [
    "# np.shape(ThC_b)"
   ]
  },
  {
   "cell_type": "code",
   "execution_count": null,
   "metadata": {
    "jupyter": {
     "source_hidden": true
    }
   },
   "outputs": [],
   "source": [
    "# stringnames = 'abcdefghijkl'\n",
    "\n",
    "# WW = np.zeros(np.shape(WW_b)  + (len(stringnames),))\n",
    "# TH = np.zeros(np.shape(WW_b)  + (len(stringnames),))\n",
    "\n",
    "# timeAvg_WW = np.zeros((700,len(stringnames)))\n",
    "# timeAvg_TH = np.zeros((700,len(stringnames)))\n",
    "\n",
    "# for i in range(len(stringnames)):\n",
    "#     WW[:,:,i] = np.asarray(eval('WW_'+ stringnames[i]))\n",
    "#     TH[:,:,i] = np.asarray(eval('ThC_'+stringnames[i]))\n",
    "#     timeAvg_TH[:,i] = np.mean(TH[:,1:,i],axis=0)\n",
    "#     timeAvg_WW[:,i] = np.mean(WW[:,1:,i],axis=0)\n",
    "    "
   ]
  },
  {
   "cell_type": "code",
   "execution_count": null,
   "metadata": {
    "jupyter": {
     "source_hidden": true
    }
   },
   "outputs": [],
   "source": [
    "\n",
    "\n",
    "# markerDots=['o','d','v','*','1','p','x','^','s','X','|']\n",
    "# radiallocs = ['0','0.1','0.2','0.3','0.4','0.5','0.6','0.7','0.9','1.3','1.7','2,2']\n",
    "\n",
    "# for i in range(len(markerDots)):\n",
    "#     plt.plot(z/D,timeAvg_WW[:,i],linewidth=1,color=colours(i),\n",
    "#     marker = markerDots[i],ms = 5 ,mfc = 'w',\n",
    "#     label=radiallocs[i],markevery = 10)\n",
    "    \n",
    "# # Ticks and Labels\n",
    "# plt.xlabel(\"$z/D$\",fontsize=14)\n",
    "# plt.ylabel('$\\overline{w_c}$', rotation=0, fontsize=14, labelpad=20)\n",
    "# plt.title(r'Neutral CO2')\n",
    "# plt.legend(bbox_to_anchor=(1.04,1), loc=\"upper left\")\n",
    "# # plt.savefig('figures//Fig2_W_Neutral_co2.png')\n"
   ]
  },
  {
   "cell_type": "code",
   "execution_count": null,
   "metadata": {
    "jupyter": {
     "source_hidden": true
    }
   },
   "outputs": [],
   "source": [
    "\n",
    "# markerDots=['o','d','v','*','1','p','x','^','s','X','|']\n",
    "\n",
    "# for i in range(len(markerDots)):\n",
    "#     plt.plot(z/D,timeAvg_WW[:,i],linewidth=1,color=colours(i),\n",
    "#     marker = markerDots[i],ms = 5 ,mfc = 'w', markevery = 10)\n",
    "    \n",
    "# # Ticks and Labels\n",
    "# plt.xlabel(\"$z/D$\",fontsize=14)\n",
    "# plt.ylabel('$\\overline{w_c}$', rotation=0, fontsize=14, labelpad=20)\n",
    "# plt.title(r'Neutral CO2')\n",
    "# # plt.savefig('figures//Fig2_W_Neutral_co2.png')"
   ]
  }
 ],
 "metadata": {
  "kernelspec": {
   "display_name": "Python 3",
   "language": "python",
   "name": "python3"
  },
  "language_info": {
   "codemirror_mode": {
    "name": "ipython",
    "version": 3
   },
   "file_extension": ".py",
   "mimetype": "text/x-python",
   "name": "python",
   "nbconvert_exporter": "python",
   "pygments_lexer": "ipython3",
   "version": "3.8.5"
  }
 },
 "nbformat": 4,
 "nbformat_minor": 4
}
