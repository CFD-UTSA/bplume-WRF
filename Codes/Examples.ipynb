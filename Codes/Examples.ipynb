{
 "cells": [
  {
   "cell_type": "code",
   "execution_count": 24,
   "metadata": {},
   "outputs": [],
   "source": [
    "##Importing Package\n",
    "import numpy as np # The fundamental package for scientific computing with Python.\n",
    "import time # for timming process\n",
    "import pyplume as pl # importing pyplume and naming it at pl\n",
    "import matplotlib.pyplot as plt"
   ]
  },
  {
   "cell_type": "code",
   "execution_count": 25,
   "metadata": {},
   "outputs": [],
   "source": [
    "# Folder path and Name of the data\n",
    "folder = r\"Z:\\Jesse\\Plumes\\CarbonDioxide\\Neutral\\co2.h2pt5.a\"\n",
    "filename = \"CO2_h5\" # nbl_helium_h20_T.mat"
   ]
  },
  {
   "cell_type": "code",
   "execution_count": 26,
   "metadata": {},
   "outputs": [],
   "source": [
    "# path = r'C:\\Users\\thanh\\OneDrive - University of Texas at San Antonio\\pyplume TEST\\namelist.input.txt'\n",
    "inputname = 'namelist.input.txt'\n",
    "inputpath = folder+'//'+inputname\n",
    "p1_metadata = pl.plume_metadata(inputpath)\n",
    "nx = p1_metadata.nx_trimmed\n",
    "ny = p1_metadata.ny_trimmed\n",
    "nz = p1_metadata.nz_trimmed\n",
    "dx = p1_metadata.dx\n",
    "dy = p1_metadata.dy\n",
    "dz = p1_metadata.dz\n",
    "D  = p1_metadata.D\n",
    "dt = p1_metadata.dt\n",
    "Ta = p1_metadata.Ta\n",
    "g  = p1_metadata.g\n",
    "nu  = p1_metadata.nu\n",
    "threshold = p1_metadata.threshold\n",
    "density_ref = p1_metadata.density_ref\n",
    "density_amb = p1_metadata.density_amb"
   ]
  },
  {
   "cell_type": "code",
   "execution_count": 27,
   "metadata": {},
   "outputs": [
    {
     "name": "stdout",
     "output_type": "stream",
     "text": [
      "0.001\n"
     ]
    }
   ],
   "source": [
    "print(threshold)"
   ]
  },
  {
   "cell_type": "code",
   "execution_count": 28,
   "metadata": {},
   "outputs": [],
   "source": [
    "#LOADING DATA T and UVW data\n",
    "name = folder+\"\\\\\"+filename\n",
    "T = pl.loadmat(name+\"_T\")\n",
    "# U = lp.loadmat(name+\"_U\")\n",
    "# V = lp.loadmat(name+\"_V\")\n",
    "# W = pl.loadmat(name+\"_W\")\n",
    "# Q = pl.loadmat(name+\"_Q\")"
   ]
  },
  {
   "cell_type": "code",
   "execution_count": 29,
   "metadata": {},
   "outputs": [
    {
     "data": {
      "text/plain": [
       "(45, 45, 700, 541)"
      ]
     },
     "execution_count": 29,
     "metadata": {},
     "output_type": "execute_result"
    }
   ],
   "source": [
    "#Double Check Data\n",
    "np.shape(T)"
   ]
  },
  {
   "cell_type": "code",
   "execution_count": 99,
   "metadata": {},
   "outputs": [],
   "source": [
    "co2_plume = pl.plume_metrics(T,T,T,dx,dy,dz,dt,D,threshold,Ta,g,density_ref,density_amb)"
   ]
  },
  {
   "cell_type": "code",
   "execution_count": 95,
   "metadata": {
    "tags": []
   },
   "outputs": [],
   "source": [
    "def plumeradius_timeaverage(data,threshold,dx,D):\n",
    "    nx,ny,nz,nt = np.shape(data)\n",
    "    data = data/np.max(data)\n",
    "    data[data<threshold] = 0\n",
    "    data = np.mean(data,3)\n",
    "    data = np.mean(data,1)\n",
    "#     data = data[:,22,:]\n",
    "#     mid = int((nx+1)*0.5)\n",
    "#     radius = np.zeros(nz)\n",
    "#     for k in range(0,nz):\n",
    "#         for i in range (mid,nx):\n",
    "#             if(data[i,k]<0):\n",
    "#                 break\n",
    "#             radius[k] = (i-mid+1)*dx/D;\n",
    "#         for i in range (0,mid):\n",
    "#             if(data[i,k]>threshold):\n",
    "#                 break\n",
    "#             if (((mid-i+1)*dx/D) > radius[k]):\n",
    "#                 radius[k] = (mid-i+1)*dx/D;\n",
    "# #             print(radius[k])\n",
    "    \n",
    "#     a = data\n",
    "#     sizea = int((nx+1)*0.5)\n",
    "#     b = a[0:sizea][::-1]\n",
    "#     c = a[sizea-1:nx]\n",
    "#     d = (b+c)*0.5\n",
    "#     radius = np.zeros(nz)\n",
    "#     for z in range(nz):\n",
    "#         for r in range(sizea):\n",
    "#             if(d[r,z]>threshold):\n",
    "#                 radius[z] = (r+1)*dx/D               \n",
    "#     radius =  radius\n",
    "    return data\n",
    "\n",
    "data = plumeradius_timeaverage(co2_plume.gT,threshold,dx,D)"
   ]
  },
  {
   "cell_type": "code",
   "execution_count": 96,
   "metadata": {},
   "outputs": [
    {
     "data": {
      "text/plain": [
       "<matplotlib.contour.QuadContourSet at 0x1dbc3e66160>"
      ]
     },
     "execution_count": 96,
     "metadata": {},
     "output_type": "execute_result"
    },
    {
     "data": {
      "image/png": "[encoded data removed]",
      "text/plain": [
       "<Figure size 432x288 with 1 Axes>"
      ]
     },
     "metadata": {
      "needs_background": "light"
     },
     "output_type": "display_data"
    }
   ],
   "source": [
    "plt.contour(data.T)"
   ]
  },
  {
   "cell_type": "code",
   "execution_count": 100,
   "metadata": {},
   "outputs": [],
   "source": [
    "import numpy as np\n",
    "import numpy as np\n",
    "from scipy.interpolate import make_interp_spline\n",
    "import matplotlib.pyplot as plt\n",
    " \n",
    "# Dataset\n",
    "x = np.linspace(0,nz,nz)\n",
    "y = data\n",
    " \n",
    "X_Y_Spline = make_interp_spline(x, y)\n",
    " \n",
    "# Returns evenly spaced numbers\n",
    "# over a specified interval.\n",
    "X_ = np.linspace(x.min(), x.max(), 50)\n",
    "Y_ = X_Y_Spline(X_)\n",
    "plt.plot(Y_, X_)\n",
    "# plt.plot(x, y)\n",
    "plt.title(\"Plot Smooth Curve Using the scipy.interpolate.make_interp_spline() Class\")\n",
    "plt.xlabel(\"X\")\n",
    "plt.ylabel(\"Y\")\n",
    "plt.show()"
   ]
  },
  {
   "cell_type": "code",
   "execution_count": 120,
   "metadata": {},
   "outputs": [],
   "source": [
    "def frontplot(data,dataname,dt,marksize=500):\n",
    "    from scipy.interpolate import make_interp_spline\n",
    "    plt.figure(figsize=(10,5))\n",
    "    color = 'k'\n",
    "    nt = np.shape(data)[0]\n",
    "    x = list(range(0,(nt)*dt,dt))\n",
    "    x = np.array(x)\n",
    "    x = x[0:np.shape(data)[0]]\n",
    "    y = data\n",
    "    X_Y_Spline = make_interp_spline(x, y)\n",
    "    X_ = np.linspace(x.min(), x.max(), 50)\n",
    "    Y_ = X_Y_Spline(X_)\n",
    "    \n",
    "    plt.plot(X_,Y_,color = color)\n",
    "    plt.locator_params(axis='x', nbins=500)\n",
    "    plt.grid()\n",
    "    plt.xticks(np.arange(min(x), max(x)+1, marksize))\n",
    "    plt.ylabel('Wf/D');plt.xlabel('Time (s)')\n",
    "#     plt.savefig(dataname +' Front.png')"
   ]
  },
  {
   "cell_type": "code",
   "execution_count": 122,
   "metadata": {},
   "outputs": [
    {
     "data": {
      "image/png": "[encoded data removed]",
      "text/plain": [
       "<Figure size 720x360 with 1 Axes>"
      ]
     },
     "metadata": {
      "needs_background": "light"
     },
     "output_type": "display_data"
    }
   ],
   "source": [
    "data = co2_plume.front_height\n",
    "\n",
    "#plot front velocity\n",
    "frontplot(data,filename+\"_height\",dt=10,marksize=500)"
   ]
  },
  {
   "cell_type": "code",
   "execution_count": null,
   "metadata": {
    "jupyter": {
     "source_hidden": true
    },
    "tags": []
   },
   "outputs": [],
   "source": [
    "# def frontplot(data,dataname,dt,marksize=500):\n",
    "#     plt.figure(figsize=(10,5))\n",
    "#     color = 'k'\n",
    "#     nt = np.shape(data)[0]\n",
    "#     x = list(range(0,(nt)*dt,dt))\n",
    "#     plt.plot(x[0:np.shape(data)[0]],data,color = color)\n",
    "#     plt.locator_params(axis='x', nbins=500)\n",
    "#     plt.grid()\n",
    "#     plt.xticks(np.arange(min(x), max(x)+1, marksize))\n",
    "#     plt.ylabel('Wf/D');plt.xlabel('Time (s)')\n",
    "#     plt.savefig(dataname +' Front.png')"
   ]
  },
  {
   "cell_type": "code",
   "execution_count": null,
   "metadata": {},
   "outputs": [],
   "source": [
    "def plumehalfgraph(dataw,datat,name,threshold=0.36788,dx=40,dy=40,dz=10,D=400):\n",
    "# def plumehalfgraph(dataw,datat,threshold,name,dx,dy,dz,D):\n",
    "    import matplotlib.pyplot as plt\n",
    "    if (sameshape2(dataw,datat) is False):\n",
    "        return\n",
    "    nx,ny,nz,nt = shape(datat)\n",
    "    wmean = timemean(dataw)\n",
    "    tmean = timemean(datat)\n",
    "    wc = centermean(dataw)\n",
    "    tc = centermean(datat)\n",
    "    \n",
    "    lt = np.zeros((nz,1),dtype=np.float32)\n",
    "    zt = np.zeros((nz,1),dtype=np.float32)\n",
    "    \n",
    "    x = np.arange(-((nx/2)-1)*dx-(dx/2),(nx/2)*dx,dx)\n",
    "    y = x\n",
    "    z = np.arange(0,nz*dz,dz)\n",
    "    [X,Y,Z] = np.meshgrid(x,y,z);\n",
    "    \n",
    "    a = np.int(np.ceil(ny/2))\n",
    "    b = np.int(np.floor(ny/2))\n",
    "    if(a==b): #even\n",
    "        cy=a-1\n",
    "    else:     #odd\n",
    "        cy=b\n",
    "    \n",
    "    for zi in range(0,nz):\n",
    "        if (tmean[nx-1,cy,zi]) >= (threshold*tc[zi]):\n",
    "            lt[zi] = x[nx-1]\n",
    "        else:\n",
    "            for xi in range(cy,ny):\n",
    "                if (tmean[xi,cy,zi]) >= (threshold*tc[zi]):\n",
    "                    c = (tmean[xi,cy,zi] - (threshold*tc[zi]))/(tmean[xi,cy,zi]-tmean[(xi+1),cy,zi])\n",
    "                    lt[zi] = x[xi] +c*dx;         \n",
    "\n",
    "    tmeandls = np.zeros(nx*ny*nz,dtype = np.float32)\n",
    "    tmeandls = np.reshape(tmeandls, (nx,ny,nz))\n",
    "    xdlst = np.zeros(nx*nz,dtype = np.float32)\n",
    "    xdlst = np.reshape(xdlst, (ny,nz))\n",
    "    ydlst = xdlst\n",
    "    for zi in range(0,nz):\n",
    "        tmeandls[:,:,zi] = (tmean[:,:,zi]/tc[zi])\n",
    "        if (lt[zi]!=0):\n",
    "            xdlst[:,zi] = x[:]/lt[zi]\n",
    "            ydlst[:,zi] = y[:]/lt[zi]\n",
    "\n",
    "    graphxt = []\n",
    "    graphyt = []\n",
    "    for i in range(0,len(lt)):\n",
    "        if (lt[i] != 0):\n",
    "            graphxt = np.append(graphxt, ((i+1)*dz/D))\n",
    "            graphyt = np.append(graphyt,lt[i]/D)\n",
    "\n",
    "    graphxt = np.reshape(graphxt, (len(graphxt), 1))\n",
    "    graphyt = np.reshape(graphyt, (len(graphyt), 1))\n",
    "\n",
    "    lw = np.zeros((nz,1),dtype=np.float32)\n",
    "    zw = np.zeros((nz,1),dtype=np.float32)\n",
    "    for zi in range(0,nz):\n",
    "        if (wmean[nx-1,cy,zi]) >= (threshold*wc[zi]):\n",
    "            lw[zi] = x[nx-1]\n",
    "        else:\n",
    "            for xi in range(cy,nx):\n",
    "                if (wmean[xi,cy,zi]) >= (threshold*wc[zi]):\n",
    "                    c = (wmean[xi,cy,zi] - (threshold*wc[zi]))/(wmean[xi,cy,zi]-wmean[(xi+1),cy,zi])\n",
    "                    lw[zi] = x[xi] +c*dx;         \n",
    "    wmeandls = np.zeros(nx*ny*nz,dtype = np.float32)\n",
    "    wmeandls = np.reshape(wmeandls, (nx,ny,nz))\n",
    "    xdlsw = np.zeros(nx*nz,dtype = np.float32)\n",
    "    xdlsw = np.reshape(xdlsw, (ny,nz))\n",
    "    ydlsw = xdlsw\n",
    "    for zi in range(0,nz):\n",
    "        wmeandls[:,:,zi] = (wmean[:,:,zi]/wc[zi])\n",
    "        if (lw[zi]!=0):\n",
    "            xdlsw[:,zi] = x[:]/lw[zi]\n",
    "            ydlsw[:,zi] = y[:]/lw[zi]\n",
    "\n",
    "    graphxw = []\n",
    "    graphyw = []\n",
    "    for i in range(0,len(lw)):\n",
    "        if (lw[i] != 0):\n",
    "            graphxw = np.append(graphxw, ((i+1)*dz/D))\n",
    "            graphyw = np.append(graphyw,lw[i]/D)\n",
    "\n",
    "    graphxw = np.reshape(graphxw, (len(graphxw), 1))\n",
    "    graphyw = np.reshape(graphyw, (len(graphyw), 1))\n",
    "    plt.figure(figsize=(10,10))\n",
    "    plt.ylabel('Z/D')\n",
    "    plt.xlabel('halfwidth')\n",
    "#     plt.title(name + 'plume-half graph')# giving a title to my graph\n",
    "    plt.plot(graphyt, graphxt,label='Tmean')\n",
    "    plt.plot(graphyw, graphxw,label='Wmean')\n",
    "    plt.legend()\n",
    "    plt.savefig(name+'.jpg')\n",
    "    plt.show()\n",
    "    return"
   ]
  },
  {
   "cell_type": "code",
   "execution_count": null,
   "metadata": {},
   "outputs": [],
   "source": [
    "# Half-Plume Plot\n",
    "lp.plumehalfgraph(W,T,filename,threshold,dx,dy,dz,D)"
   ]
  },
  {
   "cell_type": "code",
   "execution_count": null,
   "metadata": {},
   "outputs": [],
   "source": [
    "#PROCESSING DATA (VORTEX IDENTIFICATION CRITERIONS) There are 3 of them. Lambda2 take very long time.\n",
    "\n",
    "omega = lp.omega(U,V,W,dx,dy,dz) \n",
    "# helicity = lp.helicity(U,V,W,dx,dy,dz)\n",
    "# lambda2 = lp.lambda2multicore(U,V,W,dx,dy,dz) #take long time\n"
   ]
  },
  {
   "cell_type": "code",
   "execution_count": null,
   "metadata": {},
   "outputs": [],
   "source": [
    "#Save Vortex ID Data \n",
    "lp.savemat(omega,filename+\"VortexID\")"
   ]
  },
  {
   "cell_type": "code",
   "execution_count": null,
   "metadata": {
    "jupyter": {
     "source_hidden": true
    }
   },
   "outputs": [],
   "source": [
    "# #PRE-PROCESSING DATA (PLUMHALFGRAPH)\n",
    "# # Estimated time: ~1 minutes\n",
    "# # Input (u,v,w,threshold,dx,dy,dz,D,graphname)\n",
    "# threshold = 1/np.exp(1) #input threshold\n",
    "# lp.plumehalfgraph(dataw,datat,name,threshold,dx,dy,dz,D)"
   ]
  }
 ],
 "metadata": {
  "kernelspec": {
   "display_name": "Python 3",
   "language": "python",
   "name": "python3"
  },
  "language_info": {
   "codemirror_mode": {
    "name": "ipython",
    "version": 3
   },
   "file_extension": ".py",
   "mimetype": "text/x-python",
   "name": "python",
   "nbconvert_exporter": "python",
   "pygments_lexer": "ipython3",
   "version": "3.8.8"
  }
 },
 "nbformat": 4,
 "nbformat_minor": 4
}
