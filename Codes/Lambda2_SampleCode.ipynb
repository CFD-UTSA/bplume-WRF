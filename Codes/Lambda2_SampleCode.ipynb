{
 "cells": [
  {
   "cell_type": "code",
   "execution_count": 1,
   "metadata": {},
   "outputs": [],
   "source": [
    "#lambda2 Calculation\n",
    "import numpy as np\n",
    "import pyplume as pl\n",
    "\n",
    "U = pl.loadmat(r\"C:\\Users\\thanh\\OneDrive - University of Texas at San Antonio\\Data\\NH3\\NH3_U.mat\")\n",
    "V = pl.loadmat(r\"C:\\Users\\thanh\\OneDrive - University of Texas at San Antonio\\Data\\NH3\\NH3_V.mat\")\n",
    "W = pl.loadmat(r\"C:\\Users\\thanh\\OneDrive - University of Texas at San Antonio\\Data\\NH3\\NH3_W.mat\")"
   ]
  },
  {
   "cell_type": "code",
   "execution_count": 4,
   "metadata": {},
   "outputs": [
    {
     "data": {
      "text/plain": [
       "(45, 45, 700, 540)"
      ]
     },
     "execution_count": 4,
     "metadata": {},
     "output_type": "execute_result"
    }
   ],
   "source": [
    "np.shape(U)"
   ]
  },
  {
   "cell_type": "code",
   "execution_count": 6,
   "metadata": {},
   "outputs": [],
   "source": [
    "Ut = U[:,:,:,0:2]\n",
    "Vt = V[:,:,:,0:2]\n",
    "Wt = W[:,:,:,0:2]\n",
    "np.shape(Ut)"
   ]
  },
  {
   "cell_type": "code",
   "execution_count": 27,
   "metadata": {},
   "outputs": [],
   "source": [
    "def sameshape3(datau,datav,dataw):\n",
    "    if (datau.shape[0] != datav.shape[0] or datau.shape[0] != dataw.shape[0]\n",
    "        or datau.shape[1] != datav.shape[1] or datau.shape[1] != dataw.shape[1]\n",
    "        or datau.shape[2] != datav.shape[2] or datau.shape[2] != dataw.shape[2]\n",
    "        or datau.shape[3] != datav.shape[3] or datau.shape[3] != dataw.shape[3]):\n",
    "        print (\"Please input uvw files as same shape\")\n",
    "        return False\n",
    "    else:\n",
    "        return True\n",
    "    \n",
    "def transpose(x): \n",
    "    a11 = x[0,0]\n",
    "    a12 = x[0,1]\n",
    "    a13 = x[0,2]\n",
    "    a21 = x[1,0]\n",
    "    a22 = x[1,1]\n",
    "    a23 = x[1,2]\n",
    "    a31 = x[2,0]\n",
    "    a32 = x[2,1]\n",
    "    a33 = x[2,2]\n",
    "    x = np.array([[a11,a21,a31],[a12,a22,a32],[a13,a23,a33]])\n",
    "    return x\n",
    "\n",
    "# def lambmatrix(S,Ome,nx,ny,nz):\n",
    "#     from numpy import linalg as LA\n",
    "#     lamb2 = np.zeros((nx,ny,nz),dtype=np.float32)\n",
    "#     for i in range(0,nx):\n",
    "#                 for j in range(0,ny):\n",
    "#                     for k in range(0,nz):\n",
    "#                         w = LA.eigvals(S[:,:,i,j,k].dot(S[:,:,i,j,k])+Ome[:,:,i,j,k].dot(Ome[:,:,i,j,k]))\n",
    "#                         w = np.sort(w)\n",
    "#                         if w[1]<0:\n",
    "#                             lamb2[i,j,k] = w[1]\n",
    "                            \n",
    "def lambda2single(datau,datav,dataw,t,dx,dy,dz):\n",
    "    from numpy import linalg as LA\n",
    "    import multifluidlab\n",
    "    nx,ny,nz,nt = np.shape(datau)        \n",
    "        \n",
    "    dudy,dudx,dudz= np.gradient(datau[:,:,:,t],dx,dy,dz)\n",
    "    dvdy,dvdx,dvdz = np.gradient(datav[:,:,:,t],dx,dy,dz)\n",
    "    dwdy,dwdx,dwdz = np.gradient(dataw[:,:,:,t],dx,dy,dz)\n",
    "\n",
    "    J = np.array([[dudx,dudy,dudz],[dvdx,dvdy,dvdz],[dwdx,dwdy,dwdz]])\n",
    "    JT = transpose(J)\n",
    "    \n",
    "    S = (J+JT)*0.5\n",
    "    Ome = (J-JT)*0.5\n",
    "    \n",
    "    lamb2 = np.zeros((nx,ny,nz),dtype=np.float32)\n",
    "    for i in range(0,nx):\n",
    "                for j in range(0,ny):\n",
    "                    for k in range(0,nz):\n",
    "                        w = LA.eigvals(S[:,:,i,j,k].dot(S[:,:,i,j,k])+Ome[:,:,i,j,k].dot(Ome[:,:,i,j,k]))\n",
    "                        w = np.sort(w)\n",
    "                        if w[1]<0:\n",
    "                            lamb2[i,j,k] = w[1]\n",
    "    \n",
    "#     lamb2 = lambmatrix(S,Ome,nx,ny,nz)\n",
    "    return lamb2\n",
    "\n",
    "def lambda2(datau,datav,dataw,dx,dy,dz):\n",
    "    import numpy as np\n",
    "    if (sameshape3(datau,datav,dataw) is False):\n",
    "        return\n",
    "    nx,ny,nz,nt = np.shape(datau)\n",
    "    lamb2 = np.zeros((nx,ny,nz,nt),dtype=np.float32)\n",
    "    for i in range(nt):\n",
    "        percent = np.str(np.round(i/nt*100))+\"%\"\n",
    "        print('{}\\r'.format(percent), end=\"\")\n",
    "        lamb2[:,:,:,i] = lambda2single(datau,datav,dataw,i,dx,dy,dz)\n",
    "    print('{}\\r'.format(\"Lambda2 Vortex Identification Completed \"), end=\"\")\n",
    "    return lamb2"
   ]
  },
  {
   "cell_type": "code",
   "execution_count": 28,
   "metadata": {},
   "outputs": [
    {
     "name": "stdout",
     "output_type": "stream",
     "text": [
      "Lambda2 Vortex Identification Completed \r"
     ]
    }
   ],
   "source": [
    "l2 = lambda2(Ut,Vt,Wt,40,40,10)"
   ]
  }
 ],
 "metadata": {
  "kernelspec": {
   "display_name": "Python 3",
   "language": "python",
   "name": "python3"
  },
  "language_info": {
   "codemirror_mode": {
    "name": "ipython",
    "version": 3
   },
   "file_extension": ".py",
   "mimetype": "text/x-python",
   "name": "python",
   "nbconvert_exporter": "python",
   "pygments_lexer": "ipython3",
   "version": "3.8.5"
  }
 },
 "nbformat": 4,
 "nbformat_minor": 4
}
