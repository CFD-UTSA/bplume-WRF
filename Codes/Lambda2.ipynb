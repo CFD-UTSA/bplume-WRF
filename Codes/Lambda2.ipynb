{
 "cells": [
  {
   "cell_type": "code",
   "execution_count": 4,
   "metadata": {},
   "outputs": [],
   "source": [
    "##Importing Package\n",
    "import numpy as np # The fundamental package for scientific computing with Python.\n",
    "import timeit # for timming process\n",
    "import pyplume as lp # importing LESbplume and naming it at lp\n",
    "import time\n",
    "\n",
    "# Data shape:\n",
    "nx = 45\n",
    "ny = 45\n",
    "nz = 700\n",
    "# Eulerian grid size:\n",
    "dx = 40 #meter\n",
    "dy = 40\n",
    "dz = 10\n",
    "dt = 30 #10s ever time step\n",
    "D = 400 #meter"
   ]
  },
  {
   "cell_type": "code",
   "execution_count": 5,
   "metadata": {},
   "outputs": [],
   "source": [
    "folder = r'C:\\Users\\thanh\\OneDrive - University of Texas at San Antonio\\Data\\He.h.2'\n",
    "name = 'He_s2'"
   ]
  },
  {
   "cell_type": "code",
   "execution_count": 7,
   "metadata": {},
   "outputs": [
    {
     "name": "stdout",
     "output_type": "stream",
     "text": [
      "0.1503269910812378\n"
     ]
    }
   ],
   "source": [
    "start = time.time()\n",
    "datau = lp.loadmat(folder +'\\\\'+ name +\"_U.mat\")\n",
    "datav = lp.loadmat(folder +'\\\\'+ name +'_V.mat')\n",
    "dataw = lp.loadmat(folder + '\\\\'+name +'_W.mat') \n",
    "end = time.time()\n",
    "print((end - start)/60)"
   ]
  },
  {
   "cell_type": "code",
   "execution_count": 8,
   "metadata": {},
   "outputs": [],
   "source": [
    "# #Calculating Lambda2\n",
    "# start = time.time()\n",
    "# lambda2 = lp.lambda2(datau,datav,dataw,dx,dy,dz) #take long time\n",
    "# end = time.time()\n",
    "# print((end - start)/60/60)\n",
    "# start = time.time()\n",
    "# lp.savemat(lambda2,folder+\"_lamda2\")\n",
    "# end = time.time()\n",
    "# print((end - start)/60/60)"
   ]
  },
  {
   "cell_type": "code",
   "execution_count": 11,
   "metadata": {},
   "outputs": [],
   "source": [
    "u = datau[:,:,:,100:124]\n",
    "v = datav[:,:,:,100:124]\n",
    "w = dataw[:,:,:,100:124]"
   ]
  },
  {
   "cell_type": "code",
   "execution_count": 12,
   "metadata": {},
   "outputs": [],
   "source": [
    "lp.savemat(u,folder+\"_U_24timestep\")\n",
    "lp.savemat(v,folder+\"_V_24timestep\")\n",
    "lp.savemat(w,folder+\"_W_24timestep\")"
   ]
  },
  {
   "cell_type": "code",
   "execution_count": null,
   "metadata": {},
   "outputs": [],
   "source": []
  }
 ],
 "metadata": {
  "kernelspec": {
   "display_name": "Python 3",
   "language": "python",
   "name": "python3"
  },
  "language_info": {
   "codemirror_mode": {
    "name": "ipython",
    "version": 3
   },
   "file_extension": ".py",
   "mimetype": "text/x-python",
   "name": "python",
   "nbconvert_exporter": "python",
   "pygments_lexer": "ipython3",
   "version": "3.8.5"
  }
 },
 "nbformat": 4,
 "nbformat_minor": 4
}
