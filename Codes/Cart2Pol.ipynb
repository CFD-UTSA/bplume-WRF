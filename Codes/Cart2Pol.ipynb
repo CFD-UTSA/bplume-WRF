{
 "cells": [
  {
   "cell_type": "code",
   "execution_count": 2,
   "metadata": {},
   "outputs": [],
   "source": [
    "##Importing Package\n",
    "import numpy as np # The fundamental package for scientific computing with Python.\n",
    "import timeit # for timming process\n",
    "import LESbplume as lp # importing LESbplume and naming it at lp\n",
    "import time\n",
    "\n",
    "# Data shape:\n",
    "nx = 45\n",
    "ny = 45\n",
    "nz = 700\n",
    "# Eulerian grid size:\n",
    "dx = 40 #meter\n",
    "dy = 40\n",
    "dz = 10\n",
    "dt = 30 #10s ever time step\n",
    "D = 400 #meter"
   ]
  },
  {
   "cell_type": "code",
   "execution_count": 3,
   "metadata": {},
   "outputs": [],
   "source": [
    "folder = r'C:\\Users\\thanh\\OneDrive - University of Texas at San Antonio\\Data\\ThermalPlume_F050'\n",
    "name = 'TP_F050'\n",
    "datau = lp.loadmat73(folder +'\\\\'+ name +\"_U.mat\")\n",
    "datav = lp.loadmat73(folder +'\\\\'+ name +'_V.mat')\n",
    "dataw = lp.loadmat73(folder + '\\\\'+name +'_W.mat')"
   ]
  },
  {
   "cell_type": "code",
   "execution_count": 4,
   "metadata": {},
   "outputs": [],
   "source": [
    "#Coverting catesian to polar \n",
    "Ur,Utheta,W = lp.cart2pol(datau,datav,dataw,dx,dy,dz)\n",
    "lp.savemat(Ur,folder +'\\\\'+ name+\"_Ur\")\n",
    "lp.savemat(Utheta,folder +'\\\\'+ name+\"_Utheta\")"
   ]
  },
  {
   "cell_type": "code",
   "execution_count": null,
   "metadata": {},
   "outputs": [],
   "source": []
  }
 ],
 "metadata": {
  "kernelspec": {
   "display_name": "Python 3",
   "language": "python",
   "name": "python3"
  },
  "language_info": {
   "codemirror_mode": {
    "name": "ipython",
    "version": 3
   },
   "file_extension": ".py",
   "mimetype": "text/x-python",
   "name": "python",
   "nbconvert_exporter": "python",
   "pygments_lexer": "ipython3",
   "version": "3.8.5"
  }
 },
 "nbformat": 4,
 "nbformat_minor": 4
}
